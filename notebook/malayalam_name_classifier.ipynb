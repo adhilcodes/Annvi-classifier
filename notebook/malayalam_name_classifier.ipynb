{
  "nbformat": 4,
  "nbformat_minor": 0,
  "metadata": {
    "colab": {
      "name": "malayalam name classifier.ipynb",
      "provenance": [],
      "collapsed_sections": []
    },
    "kernelspec": {
      "name": "python3",
      "display_name": "Python 3"
    },
    "language_info": {
      "name": "python"
    }
  },
  "cells": [
    {
      "cell_type": "markdown",
      "source": [
        "# Base Model\n",
        "\n",
        " - Logistic Regression + CountVectorizer\n",
        " - Logistic Regression + TFIDF\n"
      ],
      "metadata": {
        "id": "irCdQsWhhbKl"
      }
    },
    {
      "cell_type": "code",
      "execution_count": 63,
      "metadata": {
        "id": "cLy_3tjZ7_sV"
      },
      "outputs": [],
      "source": [
        "import numpy as np \n",
        "import pandas as pd \n",
        "\n",
        "from sklearn.model_selection import train_test_split\n",
        "from sklearn.preprocessing import LabelEncoder\n",
        "from sklearn.feature_extraction.text import CountVectorizer\n",
        "from sklearn.feature_extraction.text import TfidfVectorizer\n",
        "from sklearn.metrics import classification_report, accuracy_score\n",
        "from sklearn.linear_model import LogisticRegression"
      ]
    },
    {
      "cell_type": "code",
      "source": [
        "data = pd.read_csv(\"/content/malayalam-names.csv\")\n",
        "print(data.shape)\n",
        "data.head()"
      ],
      "metadata": {
        "colab": {
          "base_uri": "https://localhost:8080/",
          "height": 224
        },
        "id": "RFjJMYBn8QvP",
        "outputId": "7996f8df-8c77-455a-b375-6f79fa42bbdd"
      },
      "execution_count": 64,
      "outputs": [
        {
          "output_type": "stream",
          "name": "stdout",
          "text": [
            "(22, 2)\n"
          ]
        },
        {
          "output_type": "execute_result",
          "data": {
            "text/plain": [
              "     Name  Label\n",
              "0   അദിതി      0\n",
              "1  ആക്ഷയാ      0\n",
              "2    ബാബു      1\n",
              "3     മധു      1\n",
              "4   ആദിൽ       1"
            ],
            "text/html": [
              "\n",
              "  <div id=\"df-6b99aca1-0161-4f21-8188-7002136dbb05\">\n",
              "    <div class=\"colab-df-container\">\n",
              "      <div>\n",
              "<style scoped>\n",
              "    .dataframe tbody tr th:only-of-type {\n",
              "        vertical-align: middle;\n",
              "    }\n",
              "\n",
              "    .dataframe tbody tr th {\n",
              "        vertical-align: top;\n",
              "    }\n",
              "\n",
              "    .dataframe thead th {\n",
              "        text-align: right;\n",
              "    }\n",
              "</style>\n",
              "<table border=\"1\" class=\"dataframe\">\n",
              "  <thead>\n",
              "    <tr style=\"text-align: right;\">\n",
              "      <th></th>\n",
              "      <th>Name</th>\n",
              "      <th>Label</th>\n",
              "    </tr>\n",
              "  </thead>\n",
              "  <tbody>\n",
              "    <tr>\n",
              "      <th>0</th>\n",
              "      <td>അദിതി</td>\n",
              "      <td>0</td>\n",
              "    </tr>\n",
              "    <tr>\n",
              "      <th>1</th>\n",
              "      <td>ആക്ഷയാ</td>\n",
              "      <td>0</td>\n",
              "    </tr>\n",
              "    <tr>\n",
              "      <th>2</th>\n",
              "      <td>ബാബു</td>\n",
              "      <td>1</td>\n",
              "    </tr>\n",
              "    <tr>\n",
              "      <th>3</th>\n",
              "      <td>മധു</td>\n",
              "      <td>1</td>\n",
              "    </tr>\n",
              "    <tr>\n",
              "      <th>4</th>\n",
              "      <td>ആദിൽ</td>\n",
              "      <td>1</td>\n",
              "    </tr>\n",
              "  </tbody>\n",
              "</table>\n",
              "</div>\n",
              "      <button class=\"colab-df-convert\" onclick=\"convertToInteractive('df-6b99aca1-0161-4f21-8188-7002136dbb05')\"\n",
              "              title=\"Convert this dataframe to an interactive table.\"\n",
              "              style=\"display:none;\">\n",
              "        \n",
              "  <svg xmlns=\"http://www.w3.org/2000/svg\" height=\"24px\"viewBox=\"0 0 24 24\"\n",
              "       width=\"24px\">\n",
              "    <path d=\"M0 0h24v24H0V0z\" fill=\"none\"/>\n",
              "    <path d=\"M18.56 5.44l.94 2.06.94-2.06 2.06-.94-2.06-.94-.94-2.06-.94 2.06-2.06.94zm-11 1L8.5 8.5l.94-2.06 2.06-.94-2.06-.94L8.5 2.5l-.94 2.06-2.06.94zm10 10l.94 2.06.94-2.06 2.06-.94-2.06-.94-.94-2.06-.94 2.06-2.06.94z\"/><path d=\"M17.41 7.96l-1.37-1.37c-.4-.4-.92-.59-1.43-.59-.52 0-1.04.2-1.43.59L10.3 9.45l-7.72 7.72c-.78.78-.78 2.05 0 2.83L4 21.41c.39.39.9.59 1.41.59.51 0 1.02-.2 1.41-.59l7.78-7.78 2.81-2.81c.8-.78.8-2.07 0-2.86zM5.41 20L4 18.59l7.72-7.72 1.47 1.35L5.41 20z\"/>\n",
              "  </svg>\n",
              "      </button>\n",
              "      \n",
              "  <style>\n",
              "    .colab-df-container {\n",
              "      display:flex;\n",
              "      flex-wrap:wrap;\n",
              "      gap: 12px;\n",
              "    }\n",
              "\n",
              "    .colab-df-convert {\n",
              "      background-color: #E8F0FE;\n",
              "      border: none;\n",
              "      border-radius: 50%;\n",
              "      cursor: pointer;\n",
              "      display: none;\n",
              "      fill: #1967D2;\n",
              "      height: 32px;\n",
              "      padding: 0 0 0 0;\n",
              "      width: 32px;\n",
              "    }\n",
              "\n",
              "    .colab-df-convert:hover {\n",
              "      background-color: #E2EBFA;\n",
              "      box-shadow: 0px 1px 2px rgba(60, 64, 67, 0.3), 0px 1px 3px 1px rgba(60, 64, 67, 0.15);\n",
              "      fill: #174EA6;\n",
              "    }\n",
              "\n",
              "    [theme=dark] .colab-df-convert {\n",
              "      background-color: #3B4455;\n",
              "      fill: #D2E3FC;\n",
              "    }\n",
              "\n",
              "    [theme=dark] .colab-df-convert:hover {\n",
              "      background-color: #434B5C;\n",
              "      box-shadow: 0px 1px 3px 1px rgba(0, 0, 0, 0.15);\n",
              "      filter: drop-shadow(0px 1px 2px rgba(0, 0, 0, 0.3));\n",
              "      fill: #FFFFFF;\n",
              "    }\n",
              "  </style>\n",
              "\n",
              "      <script>\n",
              "        const buttonEl =\n",
              "          document.querySelector('#df-6b99aca1-0161-4f21-8188-7002136dbb05 button.colab-df-convert');\n",
              "        buttonEl.style.display =\n",
              "          google.colab.kernel.accessAllowed ? 'block' : 'none';\n",
              "\n",
              "        async function convertToInteractive(key) {\n",
              "          const element = document.querySelector('#df-6b99aca1-0161-4f21-8188-7002136dbb05');\n",
              "          const dataTable =\n",
              "            await google.colab.kernel.invokeFunction('convertToInteractive',\n",
              "                                                     [key], {});\n",
              "          if (!dataTable) return;\n",
              "\n",
              "          const docLinkHtml = 'Like what you see? Visit the ' +\n",
              "            '<a target=\"_blank\" href=https://colab.research.google.com/notebooks/data_table.ipynb>data table notebook</a>'\n",
              "            + ' to learn more about interactive tables.';\n",
              "          element.innerHTML = '';\n",
              "          dataTable['output_type'] = 'display_data';\n",
              "          await google.colab.output.renderOutput(dataTable, element);\n",
              "          const docLink = document.createElement('div');\n",
              "          docLink.innerHTML = docLinkHtml;\n",
              "          element.appendChild(docLink);\n",
              "        }\n",
              "      </script>\n",
              "    </div>\n",
              "  </div>\n",
              "  "
            ]
          },
          "metadata": {},
          "execution_count": 64
        }
      ]
    },
    {
      "cell_type": "code",
      "source": [
        "data[\"Label\"].value_counts()"
      ],
      "metadata": {
        "colab": {
          "base_uri": "https://localhost:8080/"
        },
        "id": "i1LoXKU7-s90",
        "outputId": "8db0240c-a279-4e29-8565-632cf1b4e4b5"
      },
      "execution_count": 65,
      "outputs": [
        {
          "output_type": "execute_result",
          "data": {
            "text/plain": [
              "0    11\n",
              "1    11\n",
              "Name: Label, dtype: int64"
            ]
          },
          "metadata": {},
          "execution_count": 65
        }
      ]
    },
    {
      "cell_type": "code",
      "source": [
        "# Preparing the data \n",
        "\n",
        "\n",
        "X = data[\"Name\"]\n",
        "Y = data[\"Label\"]"
      ],
      "metadata": {
        "id": "3MqhMqG18cKv"
      },
      "execution_count": 66,
      "outputs": []
    },
    {
      "cell_type": "code",
      "source": [
        "# splitting the dataset training and testing\n",
        "\n",
        "X_train, X_test, y_train, y_test = train_test_split(X,Y, test_size=0.2, random_state=42) "
      ],
      "metadata": {
        "id": "Tj2GQOD78cNE"
      },
      "execution_count": 67,
      "outputs": []
    },
    {
      "cell_type": "markdown",
      "source": [
        "## Using Word Tokenizer & logistic regression"
      ],
      "metadata": {
        "id": "aZE8axR5fi_P"
      }
    },
    {
      "cell_type": "code",
      "source": [
        "# Vectorizing the text data\n",
        "\n",
        "cv = CountVectorizer()\n",
        "\n",
        "text_train = cv.fit_transform(X_train)\n",
        "text_test = cv.transform(X_test)\n",
        "\n",
        "\n",
        "# Training the model using logistic regression\n",
        "lr_cv = LogisticRegression()\n",
        "lr_cv.fit(text_train, y_train)"
      ],
      "metadata": {
        "id": "AF5EIPDJ8hV6",
        "colab": {
          "base_uri": "https://localhost:8080/"
        },
        "outputId": "6f74f0d9-c4fa-40ed-c70e-596d767d2e4e"
      },
      "execution_count": 68,
      "outputs": [
        {
          "output_type": "execute_result",
          "data": {
            "text/plain": [
              "LogisticRegression()"
            ]
          },
          "metadata": {},
          "execution_count": 68
        }
      ]
    },
    {
      "cell_type": "code",
      "source": [
        "y_pred = lr_cv.predict(text_test)\n",
        "ac = accuracy_score(y_test, y_pred)*100\n",
        "\n",
        "print(\"Accuracy is\", ac)"
      ],
      "metadata": {
        "colab": {
          "base_uri": "https://localhost:8080/"
        },
        "id": "TKtfCWae8nBN",
        "outputId": "cee873ad-d494-4cc2-c9c1-e196dce47a88"
      },
      "execution_count": 69,
      "outputs": [
        {
          "output_type": "stream",
          "name": "stdout",
          "text": [
            "Accuracy is 60.0\n"
          ]
        }
      ]
    },
    {
      "cell_type": "code",
      "source": [
        "# sample prediction\n",
        "\n",
        "def gender_predictor(name):\n",
        "  \n",
        "    test_name = [name]\n",
        "    vector = cv.transform(test_name).toarray()\n",
        "    if lr_cv.predict(vector) == 0:\n",
        "        print(\"Female\")\n",
        "    else:\n",
        "        print(\"Male\")"
      ],
      "metadata": {
        "id": "-954slsj8nDp"
      },
      "execution_count": 70,
      "outputs": []
    },
    {
      "cell_type": "code",
      "source": [
        "print(gender_predictor(\"ആശ\"), \"\\n\")\n",
        "print(gender_predictor(\"വൈശാഖ്\"))"
      ],
      "metadata": {
        "colab": {
          "base_uri": "https://localhost:8080/"
        },
        "id": "lIbIGuuh9-c-",
        "outputId": "7920bfa4-45a5-4059-f5ac-6e08ed4e250c"
      },
      "execution_count": 71,
      "outputs": [
        {
          "output_type": "stream",
          "name": "stdout",
          "text": [
            "Female\n",
            "None \n",
            "\n",
            "Female\n",
            "None\n"
          ]
        }
      ]
    },
    {
      "cell_type": "markdown",
      "source": [
        "## TF-IDF Vectorizer & logistic regression"
      ],
      "metadata": {
        "id": "fYioVeGogCTm"
      }
    },
    {
      "cell_type": "code",
      "source": [
        "# Vectorizing the text data\n",
        "\n",
        "tf = TfidfVectorizer()\n",
        "\n",
        "text_train = tf.fit_transform(X_train)\n",
        "text_test = tf.transform(X_test)\n",
        "\n",
        "\n",
        "# Training the model using logistic regression\n",
        "lr_tf = LogisticRegression()\n",
        "lr_tf.fit(text_train, y_train)"
      ],
      "metadata": {
        "colab": {
          "base_uri": "https://localhost:8080/"
        },
        "id": "RWQm6FLkgH2V",
        "outputId": "bc21cc70-65b0-46f4-ca1e-c3cc6eacdf0d"
      },
      "execution_count": 72,
      "outputs": [
        {
          "output_type": "execute_result",
          "data": {
            "text/plain": [
              "LogisticRegression()"
            ]
          },
          "metadata": {},
          "execution_count": 72
        }
      ]
    },
    {
      "cell_type": "code",
      "source": [
        "y_pred = lr_tf.predict(text_test)\n",
        "ac = accuracy_score(y_test, y_pred)*100\n",
        "\n",
        "print(\"Accuracy is\", ac)"
      ],
      "metadata": {
        "colab": {
          "base_uri": "https://localhost:8080/"
        },
        "id": "1T47Mv0Ugi6L",
        "outputId": "f526d537-074d-44d7-8066-3495e544e303"
      },
      "execution_count": 73,
      "outputs": [
        {
          "output_type": "stream",
          "name": "stdout",
          "text": [
            "Accuracy is 40.0\n"
          ]
        }
      ]
    },
    {
      "cell_type": "code",
      "source": [
        "# sample prediction\n",
        "\n",
        "def gender_predictor(name):\n",
        "  \n",
        "    test_name = [name]\n",
        "    vector = tf.transform(test_name).toarray()\n",
        "    if lr_tf.predict(vector) == 0:\n",
        "        print(\"Female\")\n",
        "    else:\n",
        "        print(\"Male\")"
      ],
      "metadata": {
        "id": "QwgBNVoggxzv"
      },
      "execution_count": 74,
      "outputs": []
    },
    {
      "cell_type": "code",
      "source": [
        "print(gender_predictor(\"ആശ\"), \"\\n\")\n",
        "print(gender_predictor(\"വൈശാഖ്\"))"
      ],
      "metadata": {
        "colab": {
          "base_uri": "https://localhost:8080/"
        },
        "id": "j7ITZzdqgoru",
        "outputId": "97cd2f57-1043-4fae-fc2d-38d6f5f022a4"
      },
      "execution_count": 75,
      "outputs": [
        {
          "output_type": "stream",
          "name": "stdout",
          "text": [
            "Male\n",
            "None \n",
            "\n",
            "Male\n",
            "None\n"
          ]
        }
      ]
    },
    {
      "cell_type": "markdown",
      "source": [
        "We haven't used any complex fine tuning, label_encoding techniques and even a proper dataset at the moment.As the project moving on, we may able to improve the perfomance."
      ],
      "metadata": {
        "id": "GBJ6qkkxdtnP"
      }
    }
  ]
}